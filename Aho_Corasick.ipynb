{
  "nbformat": 4,
  "nbformat_minor": 0,
  "metadata": {
    "colab": {
      "provenance": [],
      "authorship_tag": "ABX9TyPj7wYCGCzGJrT673hGNnya",
      "include_colab_link": true
    },
    "kernelspec": {
      "name": "python3",
      "display_name": "Python 3"
    },
    "language_info": {
      "name": "python"
    }
  },
  "cells": [
    {
      "cell_type": "markdown",
      "metadata": {
        "id": "view-in-github",
        "colab_type": "text"
      },
      "source": [
        "<a href=\"https://colab.research.google.com/github/newmantic/Aho_Corasick/blob/main/Aho_Corasick.ipynb\" target=\"_parent\"><img src=\"https://colab.research.google.com/assets/colab-badge.svg\" alt=\"Open In Colab\"/></a>"
      ]
    },
    {
      "cell_type": "code",
      "execution_count": 1,
      "metadata": {
        "id": "FZVq7pxvqvr1"
      },
      "outputs": [],
      "source": [
        "from collections import deque, defaultdict\n",
        "\n",
        "class AhoCorasick:\n",
        "    def __init__(self, keywords):\n",
        "        \"\"\"\n",
        "        Initialize the Aho-Corasick algorithm with a list of keywords (patterns).\n",
        "        :param keywords: List of patterns to search for in the text.\n",
        "        \"\"\"\n",
        "        self.num_keywords = len(keywords)\n",
        "        self.trie = {}\n",
        "        self.output = defaultdict(list)\n",
        "        self.fail = {}\n",
        "        self.build_trie(keywords)\n",
        "        self.build_failure_function()\n",
        "\n",
        "    def build_trie(self, keywords):\n",
        "        \"\"\"\n",
        "        Build the Trie from the list of keywords.\n",
        "        :param keywords: List of patterns to add to the trie.\n",
        "        \"\"\"\n",
        "        self.trie = {}\n",
        "        self.output = defaultdict(list)\n",
        "        new_node = 0\n",
        "\n",
        "        for keyword in keywords:\n",
        "            node = 0\n",
        "            for char in keyword:\n",
        "                if (node, char) not in self.trie:\n",
        "                    new_node += 1\n",
        "                    self.trie[(node, char)] = new_node\n",
        "                node = self.trie[(node, char)]\n",
        "            self.output[node].append(keyword)\n",
        "\n",
        "    def build_failure_function(self):\n",
        "        \"\"\"\n",
        "        Build the failure function using BFS.\n",
        "        \"\"\"\n",
        "        self.fail = {}\n",
        "        queue = deque()\n",
        "\n",
        "        # Initialize the first level of the Trie\n",
        "        for char in {char for (_, char) in self.trie if _ == 0}:\n",
        "            node = self.trie[(0, char)]\n",
        "            self.fail[node] = 0\n",
        "            queue.append(node)\n",
        "\n",
        "        # BFS to build the failure function\n",
        "        while queue:\n",
        "            r = queue.popleft()\n",
        "\n",
        "            for (u, char), v in self.trie.items():\n",
        "                if u == r:\n",
        "                    queue.append(v)\n",
        "                    state = self.fail[u]\n",
        "\n",
        "                    while (state, char) not in self.trie and state != 0:\n",
        "                        state = self.fail[state]\n",
        "\n",
        "                    self.fail[v] = self.trie.get((state, char), 0)\n",
        "                    self.output[v].extend(self.output[self.fail[v]])\n",
        "\n",
        "    def search(self, text):\n",
        "        \"\"\"\n",
        "        Search the text for all patterns using the Aho-Corasick algorithm.\n",
        "        :param text: The text in which to search for the patterns.\n",
        "        :return: A dictionary where keys are the found patterns and values are lists of starting indices.\n",
        "        \"\"\"\n",
        "        node = 0\n",
        "        results = defaultdict(list)\n",
        "\n",
        "        for i in range(len(text)):\n",
        "            while (node, text[i]) not in self.trie and node != 0:\n",
        "                node = self.fail[node]\n",
        "\n",
        "            if (node, text[i]) in self.trie:\n",
        "                node = self.trie[(node, text[i])]\n",
        "\n",
        "            if self.output[node]:\n",
        "                for pattern in self.output[node]:\n",
        "                    results[pattern].append(i - len(pattern) + 1)\n",
        "\n",
        "        return dict(results)\n",
        "\n"
      ]
    },
    {
      "cell_type": "code",
      "source": [
        "def test_case_1():\n",
        "    text = \"abccababcabca\"\n",
        "    patterns = [\"abc\", \"ab\", \"ca\"]\n",
        "    ac = AhoCorasick(patterns)\n",
        "    result = ac.search(text)\n",
        "    print(f\"Matches found: {result}\")\n",
        "    # Expected:\n",
        "    # {\n",
        "    #   \"abc\": [0, 4, 7],\n",
        "    #   \"ab\": [0, 4, 7, 9],\n",
        "    #   \"ca\": [2, 10]\n",
        "    # }\n",
        "\n",
        "test_case_1()"
      ],
      "metadata": {
        "colab": {
          "base_uri": "https://localhost:8080/"
        },
        "id": "gRoBoo3mrDOx",
        "outputId": "770da697-78f8-496a-ec51-bad91305938a"
      },
      "execution_count": 2,
      "outputs": [
        {
          "output_type": "stream",
          "name": "stdout",
          "text": [
            "Matches found: {'ab': [0, 4, 6, 9], 'abc': [0, 6, 9], 'ca': [3, 8, 11]}\n"
          ]
        }
      ]
    },
    {
      "cell_type": "code",
      "source": [
        "def test_case_2():\n",
        "    text = \"aaaaaa\"\n",
        "    patterns = [\"aa\", \"aaa\"]\n",
        "    ac = AhoCorasick(patterns)\n",
        "    result = ac.search(text)\n",
        "    print(f\"Matches found: {result}\")\n",
        "    # Expected:\n",
        "    # {\n",
        "    #   \"aa\": [0, 1, 2, 3, 4],\n",
        "    #   \"aaa\": [0, 1, 2, 3]\n",
        "    # }\n",
        "\n",
        "test_case_2()"
      ],
      "metadata": {
        "colab": {
          "base_uri": "https://localhost:8080/"
        },
        "id": "bDxRhm_TrGjM",
        "outputId": "dd3af2b9-15fd-4e7a-e62c-97f0ed8f072f"
      },
      "execution_count": 3,
      "outputs": [
        {
          "output_type": "stream",
          "name": "stdout",
          "text": [
            "Matches found: {'aa': [0, 1, 2, 3, 4], 'aaa': [0, 1, 2, 3]}\n"
          ]
        }
      ]
    },
    {
      "cell_type": "code",
      "source": [
        "def test_case_3():\n",
        "    text = \"abcdefgh\"\n",
        "    patterns = [\"xyz\", \"123\"]\n",
        "    ac = AhoCorasick(patterns)\n",
        "    result = ac.search(text)\n",
        "    print(f\"Matches found: {result}\")\n",
        "    # Expected: {}\n",
        "\n",
        "test_case_3()"
      ],
      "metadata": {
        "colab": {
          "base_uri": "https://localhost:8080/"
        },
        "id": "Pxu4OAEMrJIM",
        "outputId": "bed1f0f2-f0df-4b20-d4ce-a749506d0c74"
      },
      "execution_count": 4,
      "outputs": [
        {
          "output_type": "stream",
          "name": "stdout",
          "text": [
            "Matches found: {}\n"
          ]
        }
      ]
    },
    {
      "cell_type": "code",
      "source": [
        "def test_case_4():\n",
        "    text = \"thisisatesttext\"\n",
        "    patterns = [\"this\", \"test\", \"text\"]\n",
        "    ac = AhoCorasick(patterns)\n",
        "    result = ac.search(text)\n",
        "    print(f\"Matches found: {result}\")\n",
        "    # Expected:\n",
        "    # {\n",
        "    #   \"this\": [0],\n",
        "    #   \"test\": [6],\n",
        "    #   \"text\": [10]\n",
        "    # }\n",
        "\n",
        "test_case_4()"
      ],
      "metadata": {
        "colab": {
          "base_uri": "https://localhost:8080/"
        },
        "id": "QIKy6ETwrLPE",
        "outputId": "59c0895c-3066-4d6f-abdd-c3c25d8a2b9b"
      },
      "execution_count": 5,
      "outputs": [
        {
          "output_type": "stream",
          "name": "stdout",
          "text": [
            "Matches found: {'this': [0], 'test': [7], 'text': [11]}\n"
          ]
        }
      ]
    },
    {
      "cell_type": "code",
      "source": [
        "def test_case_5():\n",
        "    text = \"ab\" * 1000 + \"abc\"\n",
        "    patterns = [\"ab\", \"abc\"]\n",
        "    ac = AhoCorasick(patterns)\n",
        "    result = ac.search(text)\n",
        "    print(f\"Matches found: {result}\")\n",
        "    # Expected:\n",
        "    # {\n",
        "    #   \"ab\": [0, 2, 4, ..., 1998, 2000],\n",
        "    #   \"abc\": [2000]\n",
        "    # }\n",
        "\n",
        "test_case_5()"
      ],
      "metadata": {
        "colab": {
          "base_uri": "https://localhost:8080/"
        },
        "id": "zm9xDExDrNXE",
        "outputId": "8add0771-47c3-4bd0-e9eb-9b59904cda37"
      },
      "execution_count": 6,
      "outputs": [
        {
          "output_type": "stream",
          "name": "stdout",
          "text": [
            "Matches found: {'ab': [0, 2, 4, 6, 8, 10, 12, 14, 16, 18, 20, 22, 24, 26, 28, 30, 32, 34, 36, 38, 40, 42, 44, 46, 48, 50, 52, 54, 56, 58, 60, 62, 64, 66, 68, 70, 72, 74, 76, 78, 80, 82, 84, 86, 88, 90, 92, 94, 96, 98, 100, 102, 104, 106, 108, 110, 112, 114, 116, 118, 120, 122, 124, 126, 128, 130, 132, 134, 136, 138, 140, 142, 144, 146, 148, 150, 152, 154, 156, 158, 160, 162, 164, 166, 168, 170, 172, 174, 176, 178, 180, 182, 184, 186, 188, 190, 192, 194, 196, 198, 200, 202, 204, 206, 208, 210, 212, 214, 216, 218, 220, 222, 224, 226, 228, 230, 232, 234, 236, 238, 240, 242, 244, 246, 248, 250, 252, 254, 256, 258, 260, 262, 264, 266, 268, 270, 272, 274, 276, 278, 280, 282, 284, 286, 288, 290, 292, 294, 296, 298, 300, 302, 304, 306, 308, 310, 312, 314, 316, 318, 320, 322, 324, 326, 328, 330, 332, 334, 336, 338, 340, 342, 344, 346, 348, 350, 352, 354, 356, 358, 360, 362, 364, 366, 368, 370, 372, 374, 376, 378, 380, 382, 384, 386, 388, 390, 392, 394, 396, 398, 400, 402, 404, 406, 408, 410, 412, 414, 416, 418, 420, 422, 424, 426, 428, 430, 432, 434, 436, 438, 440, 442, 444, 446, 448, 450, 452, 454, 456, 458, 460, 462, 464, 466, 468, 470, 472, 474, 476, 478, 480, 482, 484, 486, 488, 490, 492, 494, 496, 498, 500, 502, 504, 506, 508, 510, 512, 514, 516, 518, 520, 522, 524, 526, 528, 530, 532, 534, 536, 538, 540, 542, 544, 546, 548, 550, 552, 554, 556, 558, 560, 562, 564, 566, 568, 570, 572, 574, 576, 578, 580, 582, 584, 586, 588, 590, 592, 594, 596, 598, 600, 602, 604, 606, 608, 610, 612, 614, 616, 618, 620, 622, 624, 626, 628, 630, 632, 634, 636, 638, 640, 642, 644, 646, 648, 650, 652, 654, 656, 658, 660, 662, 664, 666, 668, 670, 672, 674, 676, 678, 680, 682, 684, 686, 688, 690, 692, 694, 696, 698, 700, 702, 704, 706, 708, 710, 712, 714, 716, 718, 720, 722, 724, 726, 728, 730, 732, 734, 736, 738, 740, 742, 744, 746, 748, 750, 752, 754, 756, 758, 760, 762, 764, 766, 768, 770, 772, 774, 776, 778, 780, 782, 784, 786, 788, 790, 792, 794, 796, 798, 800, 802, 804, 806, 808, 810, 812, 814, 816, 818, 820, 822, 824, 826, 828, 830, 832, 834, 836, 838, 840, 842, 844, 846, 848, 850, 852, 854, 856, 858, 860, 862, 864, 866, 868, 870, 872, 874, 876, 878, 880, 882, 884, 886, 888, 890, 892, 894, 896, 898, 900, 902, 904, 906, 908, 910, 912, 914, 916, 918, 920, 922, 924, 926, 928, 930, 932, 934, 936, 938, 940, 942, 944, 946, 948, 950, 952, 954, 956, 958, 960, 962, 964, 966, 968, 970, 972, 974, 976, 978, 980, 982, 984, 986, 988, 990, 992, 994, 996, 998, 1000, 1002, 1004, 1006, 1008, 1010, 1012, 1014, 1016, 1018, 1020, 1022, 1024, 1026, 1028, 1030, 1032, 1034, 1036, 1038, 1040, 1042, 1044, 1046, 1048, 1050, 1052, 1054, 1056, 1058, 1060, 1062, 1064, 1066, 1068, 1070, 1072, 1074, 1076, 1078, 1080, 1082, 1084, 1086, 1088, 1090, 1092, 1094, 1096, 1098, 1100, 1102, 1104, 1106, 1108, 1110, 1112, 1114, 1116, 1118, 1120, 1122, 1124, 1126, 1128, 1130, 1132, 1134, 1136, 1138, 1140, 1142, 1144, 1146, 1148, 1150, 1152, 1154, 1156, 1158, 1160, 1162, 1164, 1166, 1168, 1170, 1172, 1174, 1176, 1178, 1180, 1182, 1184, 1186, 1188, 1190, 1192, 1194, 1196, 1198, 1200, 1202, 1204, 1206, 1208, 1210, 1212, 1214, 1216, 1218, 1220, 1222, 1224, 1226, 1228, 1230, 1232, 1234, 1236, 1238, 1240, 1242, 1244, 1246, 1248, 1250, 1252, 1254, 1256, 1258, 1260, 1262, 1264, 1266, 1268, 1270, 1272, 1274, 1276, 1278, 1280, 1282, 1284, 1286, 1288, 1290, 1292, 1294, 1296, 1298, 1300, 1302, 1304, 1306, 1308, 1310, 1312, 1314, 1316, 1318, 1320, 1322, 1324, 1326, 1328, 1330, 1332, 1334, 1336, 1338, 1340, 1342, 1344, 1346, 1348, 1350, 1352, 1354, 1356, 1358, 1360, 1362, 1364, 1366, 1368, 1370, 1372, 1374, 1376, 1378, 1380, 1382, 1384, 1386, 1388, 1390, 1392, 1394, 1396, 1398, 1400, 1402, 1404, 1406, 1408, 1410, 1412, 1414, 1416, 1418, 1420, 1422, 1424, 1426, 1428, 1430, 1432, 1434, 1436, 1438, 1440, 1442, 1444, 1446, 1448, 1450, 1452, 1454, 1456, 1458, 1460, 1462, 1464, 1466, 1468, 1470, 1472, 1474, 1476, 1478, 1480, 1482, 1484, 1486, 1488, 1490, 1492, 1494, 1496, 1498, 1500, 1502, 1504, 1506, 1508, 1510, 1512, 1514, 1516, 1518, 1520, 1522, 1524, 1526, 1528, 1530, 1532, 1534, 1536, 1538, 1540, 1542, 1544, 1546, 1548, 1550, 1552, 1554, 1556, 1558, 1560, 1562, 1564, 1566, 1568, 1570, 1572, 1574, 1576, 1578, 1580, 1582, 1584, 1586, 1588, 1590, 1592, 1594, 1596, 1598, 1600, 1602, 1604, 1606, 1608, 1610, 1612, 1614, 1616, 1618, 1620, 1622, 1624, 1626, 1628, 1630, 1632, 1634, 1636, 1638, 1640, 1642, 1644, 1646, 1648, 1650, 1652, 1654, 1656, 1658, 1660, 1662, 1664, 1666, 1668, 1670, 1672, 1674, 1676, 1678, 1680, 1682, 1684, 1686, 1688, 1690, 1692, 1694, 1696, 1698, 1700, 1702, 1704, 1706, 1708, 1710, 1712, 1714, 1716, 1718, 1720, 1722, 1724, 1726, 1728, 1730, 1732, 1734, 1736, 1738, 1740, 1742, 1744, 1746, 1748, 1750, 1752, 1754, 1756, 1758, 1760, 1762, 1764, 1766, 1768, 1770, 1772, 1774, 1776, 1778, 1780, 1782, 1784, 1786, 1788, 1790, 1792, 1794, 1796, 1798, 1800, 1802, 1804, 1806, 1808, 1810, 1812, 1814, 1816, 1818, 1820, 1822, 1824, 1826, 1828, 1830, 1832, 1834, 1836, 1838, 1840, 1842, 1844, 1846, 1848, 1850, 1852, 1854, 1856, 1858, 1860, 1862, 1864, 1866, 1868, 1870, 1872, 1874, 1876, 1878, 1880, 1882, 1884, 1886, 1888, 1890, 1892, 1894, 1896, 1898, 1900, 1902, 1904, 1906, 1908, 1910, 1912, 1914, 1916, 1918, 1920, 1922, 1924, 1926, 1928, 1930, 1932, 1934, 1936, 1938, 1940, 1942, 1944, 1946, 1948, 1950, 1952, 1954, 1956, 1958, 1960, 1962, 1964, 1966, 1968, 1970, 1972, 1974, 1976, 1978, 1980, 1982, 1984, 1986, 1988, 1990, 1992, 1994, 1996, 1998, 2000], 'abc': [2000]}\n"
          ]
        }
      ]
    }
  ]
}